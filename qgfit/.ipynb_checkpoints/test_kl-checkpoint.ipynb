{
 "cells": [
  {
   "cell_type": "code",
   "execution_count": 1,
   "id": "e05c9e69",
   "metadata": {},
   "outputs": [
    {
     "name": "stdout",
     "output_type": "stream",
     "text": [
      "[[Model]]\n",
      "    Model(polynomial)\n",
      "[[Fit Statistics]]\n",
      "    # fitting method   = leastsq\n",
      "    # function evals   = 6\n",
      "    # data points      = 101\n",
      "    # variables        = 4\n",
      "    chi-square         = 3.69528187\n",
      "    reduced chi-square = 0.03809569\n",
      "    Akaike info crit   = -326.114432\n",
      "    Bayesian info crit = -315.653950\n",
      "[[Variables]]\n",
      "    c0: -4.52123743 +/- 0.02913404 (0.64%) (init = -4.521237)\n",
      "    c1:  1.69257243 +/- 0.00416482 (0.25%) (init = 1.692572)\n",
      "    c2:  2.80009352 +/- 1.5968e-04 (0.01%) (init = 2.800094)\n",
      "    c3: -5.89996737 +/- 1.5596e-05 (0.00%) (init = -5.899967)\n",
      "[[Correlations]] (unreported correlations are < 0.100)\n",
      "    C(c1, c3) = -0.917\n",
      "    C(c0, c2) = -0.745\n",
      "3.6952818711197315\n",
      "[[Model]]\n",
      "    (Model(polynomial) + Model(gaussian))\n",
      "[[Fit Statistics]]\n",
      "    # fitting method   = leastsq\n",
      "    # function evals   = 33\n",
      "    # data points      = 101\n",
      "    # variables        = 7\n",
      "    chi-square         = 3.69528187\n",
      "    reduced chi-square = 0.03931151\n",
      "    Akaike info crit   = -320.114432\n",
      "    Bayesian info crit = -301.808588\n",
      "##  Warning: uncertainties could not be estimated:\n",
      "    c0:         at initial value\n",
      "    c1:         at initial value\n",
      "    c2:         at initial value\n",
      "    c3:         at initial value\n",
      "[[Variables]]\n",
      "    c0:        -4.52123650 (init = -4.521237)\n",
      "    c1:         1.69257239 (init = 1.692572)\n",
      "    c2:         2.80009351 (init = 2.800094)\n",
      "    c3:        -5.89996737 (init = -5.899967)\n",
      "    amplitude:  0.74414371 (init = 1)\n",
      "    center:    -3.38787205 (init = 0)\n",
      "    sigma:      0.01750009 (init = 1)\n",
      "    fwhm:       0.04120956 == '2.3548200*sigma'\n",
      "    height:     16.9639358 == '0.3989423*amplitude/max(1e-15, sigma)'\n"
     ]
    },
    {
     "ename": "TypeError",
     "evalue": "object of type 'NoneType' has no len()",
     "output_type": "error",
     "traceback": [
      "\u001b[0;31m---------------------------------------------------------------------------\u001b[0m",
      "\u001b[0;31mTypeError\u001b[0m                                 Traceback (most recent call last)",
      "\u001b[0;32m<ipython-input-1-b758261b46b7>\u001b[0m in \u001b[0;36m<module>\u001b[0;34m\u001b[0m\n\u001b[1;32m     32\u001b[0m \u001b[0mkl\u001b[0m \u001b[0;34m=\u001b[0m \u001b[0mKmpfit_Lmfit\u001b[0m\u001b[0;34m(\u001b[0m\u001b[0mpars\u001b[0m\u001b[0;34m)\u001b[0m\u001b[0;34m\u001b[0m\u001b[0;34m\u001b[0m\u001b[0m\n\u001b[1;32m     33\u001b[0m \u001b[0;31m# pi = Kmpfit_Lmfit.init_parinfo(pars)\u001b[0m\u001b[0;34m\u001b[0m\u001b[0;34m\u001b[0m\u001b[0;34m\u001b[0m\u001b[0m\n\u001b[0;32m---> 34\u001b[0;31m \u001b[0mpv\u001b[0m\u001b[0;34m,\u001b[0m \u001b[0mpi\u001b[0m \u001b[0;34m=\u001b[0m \u001b[0mkl\u001b[0m\u001b[0;34m.\u001b[0m\u001b[0mtie\u001b[0m\u001b[0;34m(\u001b[0m\u001b[0;34m)\u001b[0m\u001b[0;34m\u001b[0m\u001b[0;34m\u001b[0m\u001b[0m\n\u001b[0m",
      "\u001b[0;32m~/Yang/Work/1-Work/note/10-1/7-CXO_Spectra/QY/QSOGal_lmfit2_ubuntu_both_v2/kmpfit_lmfit.py\u001b[0m in \u001b[0;36mtie\u001b[0;34m(self)\u001b[0m\n\u001b[1;32m     43\u001b[0m         \u001b[0;32mfor\u001b[0m \u001b[0mk\u001b[0m\u001b[0;34m,\u001b[0m \u001b[0mkey\u001b[0m \u001b[0;32min\u001b[0m \u001b[0menumerate\u001b[0m\u001b[0;34m(\u001b[0m\u001b[0mself\u001b[0m\u001b[0;34m.\u001b[0m\u001b[0mpar_name\u001b[0m\u001b[0;34m)\u001b[0m\u001b[0;34m:\u001b[0m\u001b[0;34m\u001b[0m\u001b[0;34m\u001b[0m\u001b[0m\n\u001b[1;32m     44\u001b[0m             \u001b[0mexpr\u001b[0m \u001b[0;34m=\u001b[0m \u001b[0mself\u001b[0m\u001b[0;34m.\u001b[0m\u001b[0mparinfo\u001b[0m\u001b[0;34m[\u001b[0m\u001b[0mk\u001b[0m\u001b[0;34m]\u001b[0m\u001b[0;34m[\u001b[0m\u001b[0;34m'expr'\u001b[0m\u001b[0;34m]\u001b[0m \u001b[0;31m# par.expr\u001b[0m\u001b[0;34m\u001b[0m\u001b[0;34m\u001b[0m\u001b[0m\n\u001b[0;32m---> 45\u001b[0;31m             \u001b[0;32mif\u001b[0m \u001b[0mlen\u001b[0m\u001b[0;34m(\u001b[0m\u001b[0mexpr\u001b[0m\u001b[0;34m)\u001b[0m \u001b[0;34m>\u001b[0m \u001b[0;36m0\u001b[0m\u001b[0;34m:\u001b[0m\u001b[0;34m\u001b[0m\u001b[0;34m\u001b[0m\u001b[0m\n\u001b[0m\u001b[1;32m     46\u001b[0m                 \u001b[0mself\u001b[0m\u001b[0;34m.\u001b[0m\u001b[0mparinfo\u001b[0m\u001b[0;34m[\u001b[0m\u001b[0mk\u001b[0m\u001b[0;34m]\u001b[0m\u001b[0;34m[\u001b[0m\u001b[0;34m'value'\u001b[0m\u001b[0;34m]\u001b[0m \u001b[0;34m=\u001b[0m \u001b[0mself\u001b[0m\u001b[0;34m.\u001b[0m\u001b[0m_asteval\u001b[0m\u001b[0;34m.\u001b[0m\u001b[0meval\u001b[0m\u001b[0;34m(\u001b[0m\u001b[0mexpr\u001b[0m\u001b[0;34m)\u001b[0m\u001b[0;34m\u001b[0m\u001b[0;34m\u001b[0m\u001b[0m\n\u001b[1;32m     47\u001b[0m         \u001b[0mpar_value\u001b[0m \u001b[0;34m=\u001b[0m \u001b[0;34m[\u001b[0m\u001b[0mp\u001b[0m\u001b[0;34m[\u001b[0m\u001b[0;34m'value'\u001b[0m\u001b[0;34m]\u001b[0m \u001b[0;32mfor\u001b[0m \u001b[0mp\u001b[0m \u001b[0;32min\u001b[0m \u001b[0mself\u001b[0m\u001b[0;34m.\u001b[0m\u001b[0mparinfo\u001b[0m\u001b[0;34m]\u001b[0m\u001b[0;34m\u001b[0m\u001b[0;34m\u001b[0m\u001b[0m\n",
      "\u001b[0;31mTypeError\u001b[0m: object of type 'NoneType' has no len()"
     ]
    }
   ],
   "source": [
    "import numpy as np\n",
    "from lmfit.models import GaussianModel, PolynomialModel\n",
    "from kmpfit_lmfit import Kmpfit_Lmfit\n",
    "\n",
    "x = np.linspace(-20, 20, 101)\n",
    "y = -4.5 + 1.7 * x + 2.8 * x**2 -5.9 * x**3\n",
    "y = y + np.random.normal(size=len(y), scale=0.2)\n",
    "#     plt.plot(x, y)\n",
    "\n",
    "mod = PolynomialModel(degree=3)\n",
    "pars = mod.guess(y, x=x)\n",
    "out = mod.fit(y, pars, x=x)\n",
    "print(out.fit_report())\n",
    "\n",
    "ndata_1 = out.ndata\n",
    "p_1 = out.nvarys\n",
    "dof_1 = ndata_1 - p_1\n",
    "chi2_1 = out.chisqr\n",
    "print(chi2_1)\n",
    "\n",
    "# ------ QY add parameter -----\n",
    "poly_mod = PolynomialModel(degree=3)\n",
    "gauss_mod = GaussianModel()\n",
    "mod = poly_mod + gauss_mod\n",
    "#     pars = mod.guess(y, x=x)\n",
    "pars = poly_mod.guess(y, x=x)\n",
    "pars.update(gauss_mod.make_params())\n",
    "pars['amplitude'].set(value=1.0, vary=True, min=0.0)\n",
    "out = mod.fit(y, pars, x=x)\n",
    "print(out.fit_report())\n",
    "\n",
    "kl = Kmpfit_Lmfit(pars)\n",
    "pv, pi = kl.init_parinfo()\n",
    "# pv, pi = kl.update()\n",
    "pvt = np.arange(len(pv))\n",
    "pv_new, pi_new = kl.update(params=pvt)"
   ]
  }
 ],
 "metadata": {
  "kernelspec": {
   "display_name": "Python 3",
   "language": "python",
   "name": "python3"
  },
  "language_info": {
   "codemirror_mode": {
    "name": "ipython",
    "version": 3
   },
   "file_extension": ".py",
   "mimetype": "text/x-python",
   "name": "python",
   "nbconvert_exporter": "python",
   "pygments_lexer": "ipython3",
   "version": "3.8.8"
  }
 },
 "nbformat": 4,
 "nbformat_minor": 5
}
